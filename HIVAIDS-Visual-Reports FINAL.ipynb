{
 "cells": [
  {
   "cell_type": "code",
   "execution_count": 176,
   "id": "89291f02",
   "metadata": {},
   "outputs": [],
   "source": [
    "import pandas as pd\n",
    "import numpy as np\n",
    "import matplotlib.pyplot as plt\n",
    "%matplotlib inline\n",
    "from matplotlib import style\n",
    "import seaborn as sns"
   ]
  },
  {
   "cell_type": "code",
   "execution_count": 177,
   "id": "b0a370f7",
   "metadata": {},
   "outputs": [
    {
     "data": {
      "text/html": [
       "<div>\n",
       "<style scoped>\n",
       "    .dataframe tbody tr th:only-of-type {\n",
       "        vertical-align: middle;\n",
       "    }\n",
       "\n",
       "    .dataframe tbody tr th {\n",
       "        vertical-align: top;\n",
       "    }\n",
       "\n",
       "    .dataframe thead th {\n",
       "        text-align: right;\n",
       "    }\n",
       "</style>\n",
       "<table border=\"1\" class=\"dataframe\">\n",
       "  <thead>\n",
       "    <tr style=\"text-align: right;\">\n",
       "      <th></th>\n",
       "      <th>Demographic Year</th>\n",
       "      <th>Total Reported Cases</th>\n",
       "      <th>Asymptomatic Cases</th>\n",
       "      <th>AIDS Cases</th>\n",
       "      <th>No. of Male</th>\n",
       "      <th>No. of Female</th>\n",
       "      <th>Less than 15 y/o</th>\n",
       "      <th>15-24 y/o</th>\n",
       "      <th>25-34 y/o</th>\n",
       "      <th>35-49 y/o</th>\n",
       "      <th>50 y/o and above</th>\n",
       "      <th>Reported Deaths</th>\n",
       "    </tr>\n",
       "  </thead>\n",
       "  <tbody>\n",
       "    <tr>\n",
       "      <th>0</th>\n",
       "      <td>Year 2015</td>\n",
       "      <td>7829</td>\n",
       "      <td>7326</td>\n",
       "      <td>503</td>\n",
       "      <td>7507</td>\n",
       "      <td>322</td>\n",
       "      <td>20</td>\n",
       "      <td>2215</td>\n",
       "      <td>4130</td>\n",
       "      <td>1291</td>\n",
       "      <td>173</td>\n",
       "      <td>461</td>\n",
       "    </tr>\n",
       "    <tr>\n",
       "      <th>1</th>\n",
       "      <td>Year 2016</td>\n",
       "      <td>9264</td>\n",
       "      <td>8151</td>\n",
       "      <td>1113</td>\n",
       "      <td>8874</td>\n",
       "      <td>390</td>\n",
       "      <td>22</td>\n",
       "      <td>2625</td>\n",
       "      <td>4921</td>\n",
       "      <td>1510</td>\n",
       "      <td>186</td>\n",
       "      <td>439</td>\n",
       "    </tr>\n",
       "    <tr>\n",
       "      <th>2</th>\n",
       "      <td>Year 2017</td>\n",
       "      <td>11103</td>\n",
       "      <td>9688</td>\n",
       "      <td>1415</td>\n",
       "      <td>10586</td>\n",
       "      <td>517</td>\n",
       "      <td>38</td>\n",
       "      <td>3451</td>\n",
       "      <td>5581</td>\n",
       "      <td>1769</td>\n",
       "      <td>264</td>\n",
       "      <td>497</td>\n",
       "    </tr>\n",
       "    <tr>\n",
       "      <th>3</th>\n",
       "      <td>Year 2018</td>\n",
       "      <td>11427</td>\n",
       "      <td>-</td>\n",
       "      <td>2030</td>\n",
       "      <td>10828</td>\n",
       "      <td>599</td>\n",
       "      <td>30</td>\n",
       "      <td>3391</td>\n",
       "      <td>5756</td>\n",
       "      <td>1991</td>\n",
       "      <td>259</td>\n",
       "      <td>596</td>\n",
       "    </tr>\n",
       "    <tr>\n",
       "      <th>4</th>\n",
       "      <td>Year 2019</td>\n",
       "      <td>12778</td>\n",
       "      <td>-</td>\n",
       "      <td>2167</td>\n",
       "      <td>12116</td>\n",
       "      <td>662</td>\n",
       "      <td>38</td>\n",
       "      <td>3952</td>\n",
       "      <td>6354</td>\n",
       "      <td>2068</td>\n",
       "      <td>366</td>\n",
       "      <td>679</td>\n",
       "    </tr>\n",
       "    <tr>\n",
       "      <th>5</th>\n",
       "      <td>Year 2020</td>\n",
       "      <td>8058</td>\n",
       "      <td>-</td>\n",
       "      <td>1623</td>\n",
       "      <td>7624</td>\n",
       "      <td>849</td>\n",
       "      <td>32</td>\n",
       "      <td>2241</td>\n",
       "      <td>4071</td>\n",
       "      <td>1480</td>\n",
       "      <td>234</td>\n",
       "      <td>846</td>\n",
       "    </tr>\n",
       "    <tr>\n",
       "      <th>6</th>\n",
       "      <td>Year 2021</td>\n",
       "      <td>12341</td>\n",
       "      <td>-</td>\n",
       "      <td>1902</td>\n",
       "      <td>11793</td>\n",
       "      <td>548</td>\n",
       "      <td>30</td>\n",
       "      <td>3684</td>\n",
       "      <td>6262</td>\n",
       "      <td>2063</td>\n",
       "      <td>301</td>\n",
       "      <td>893</td>\n",
       "    </tr>\n",
       "  </tbody>\n",
       "</table>\n",
       "</div>"
      ],
      "text/plain": [
       "  Demographic Year  Total Reported Cases Asymptomatic Cases  AIDS Cases  \\\n",
       "0        Year 2015                  7829               7326         503   \n",
       "1        Year 2016                  9264               8151        1113   \n",
       "2        Year 2017                 11103               9688        1415   \n",
       "3        Year 2018                 11427                  -        2030   \n",
       "4        Year 2019                 12778                  -        2167   \n",
       "5        Year 2020                  8058                  -        1623   \n",
       "6        Year 2021                 12341                  -        1902   \n",
       "\n",
       "   No. of Male  No. of Female  Less than 15 y/o  15-24 y/o  25-34 y/o  \\\n",
       "0         7507            322                20       2215       4130   \n",
       "1         8874            390                22       2625       4921   \n",
       "2        10586            517                38       3451       5581   \n",
       "3        10828            599                30       3391       5756   \n",
       "4        12116            662                38       3952       6354   \n",
       "5         7624            849                32       2241       4071   \n",
       "6        11793            548                30       3684       6262   \n",
       "\n",
       "   35-49 y/o  50 y/o and above  Reported Deaths  \n",
       "0       1291               173              461  \n",
       "1       1510               186              439  \n",
       "2       1769               264              497  \n",
       "3       1991               259              596  \n",
       "4       2068               366              679  \n",
       "5       1480               234              846  \n",
       "6       2063               301              893  "
      ]
     },
     "metadata": {},
     "output_type": "display_data"
    }
   ],
   "source": [
    "dataset = pd.read_csv(r\"C:\\Users\\user\\Documents\\Total Reported Cases per Year.csv\")\n",
    "display(dataset)"
   ]
  },
  {
   "cell_type": "code",
   "execution_count": 178,
   "id": "c0e73168",
   "metadata": {},
   "outputs": [
    {
     "data": {
      "image/png": "[encoded data removed]",
      "text/plain": [
       "<Figure size 864x576 with 1 Axes>"
      ]
     },
     "metadata": {
      "needs_background": "light"
     },
     "output_type": "display_data"
    }
   ],
   "source": [
    "Years = dataset[\"Demographic Year\"]\n",
    "ReportedCases = dataset[\"Total Reported Cases\"]\n",
    "\n",
    "\n",
    "def add_value_label(x_list,y_list):\n",
    "    for i in range(1, len(x_list)+1):\n",
    "        plt.annotate(y_list[i-1],(i,y_list[i-1]))\n",
    "        \n",
    "fig, ax = plt.subplots(figsize=(12,8))\n",
    "plt.style.use('seaborn')\n",
    "\n",
    "plt.plot(Years, ReportedCases, 's-',ms=8,linewidth = 2, color='blue')\n",
    "plt.title(\"Total Number of Reported Cases from 2015-2021\",fontsize=20, fontweight=\"bold\")\n",
    "for index in range(len(Years)):\n",
    "  ax.text(Years[index], ReportedCases[index], ReportedCases[index], size=15,color='red',fontweight=\"bold\")\n",
    "plt.xticks(Years,size = 12)\n",
    "plt.yticks(size = 12)\n",
    "plt.xlabel(\"Years\", size=15)\n",
    "plt.ylabel(\"Number of Reported Cases\", size=13)\n",
    "plt.grid(color = 'black', linestyle = '-', linewidth = 0.7)\n",
    "plt.show()"
   ]
  },
  {
   "cell_type": "code",
   "execution_count": 179,
   "id": "aa3a04c3",
   "metadata": {},
   "outputs": [
    {
     "data": {
      "image/png": "[encoded data removed]",
      "text/plain": [
       "<Figure size 864x576 with 1 Axes>"
      ]
     },
     "metadata": {},
     "output_type": "display_data"
    }
   ],
   "source": [
    "Years = dataset[\"Demographic Year\"]\n",
    "ReportedDeaths= dataset[\"Reported Deaths\"]\n",
    "\n",
    "\n",
    "def add_value_label(x_list,y_list):\n",
    "    for i in range(1, len(x_list)+1):\n",
    "        plt.annotate(y_list[i-1],(i,y_list[i-1]))\n",
    "        \n",
    "fig, ax = plt.subplots(figsize=(12,8))\n",
    "sns.set_style(\"dark\")\n",
    "\n",
    "plt.plot(Years, ReportedDeaths, 'o-',ms=8,linewidth = 2, color='red')\n",
    "plt.title(\"Total Number of Reported Deaths from 2015-2021\",fontsize=20, fontweight=\"bold\")\n",
    "for index in range(len(Years)):\n",
    "  ax.text(Years[index], ReportedDeaths[index], ReportedDeaths[index], size=15,color='blue', fontweight=\"bold\")\n",
    "plt.xticks(Years,size = 12)\n",
    "plt.yticks(size = 12)\n",
    "plt.xlabel(\"Years\", size=15)\n",
    "plt.ylabel(\"Number of Reported Deaths\", size=13)\n",
    "plt.grid(color = 'black', linestyle = '-', linewidth = 0.7)\n",
    "plt.show()"
   ]
  },
  {
   "cell_type": "code",
   "execution_count": 180,
   "id": "8f6300fc",
   "metadata": {},
   "outputs": [
    {
     "data": {
      "text/html": [
       "<div>\n",
       "<style scoped>\n",
       "    .dataframe tbody tr th:only-of-type {\n",
       "        vertical-align: middle;\n",
       "    }\n",
       "\n",
       "    .dataframe tbody tr th {\n",
       "        vertical-align: top;\n",
       "    }\n",
       "\n",
       "    .dataframe thead th {\n",
       "        text-align: right;\n",
       "    }\n",
       "</style>\n",
       "<table border=\"1\" class=\"dataframe\">\n",
       "  <thead>\n",
       "    <tr style=\"text-align: right;\">\n",
       "      <th></th>\n",
       "      <th>Demographic Year</th>\n",
       "      <th>No. of Male</th>\n",
       "      <th>No. of Female</th>\n",
       "    </tr>\n",
       "  </thead>\n",
       "  <tbody>\n",
       "    <tr>\n",
       "      <th>0</th>\n",
       "      <td>Year 2015</td>\n",
       "      <td>7507</td>\n",
       "      <td>322</td>\n",
       "    </tr>\n",
       "    <tr>\n",
       "      <th>1</th>\n",
       "      <td>Year 2016</td>\n",
       "      <td>8874</td>\n",
       "      <td>390</td>\n",
       "    </tr>\n",
       "    <tr>\n",
       "      <th>2</th>\n",
       "      <td>Year 2017</td>\n",
       "      <td>10586</td>\n",
       "      <td>517</td>\n",
       "    </tr>\n",
       "    <tr>\n",
       "      <th>3</th>\n",
       "      <td>Year 2018</td>\n",
       "      <td>10828</td>\n",
       "      <td>599</td>\n",
       "    </tr>\n",
       "    <tr>\n",
       "      <th>4</th>\n",
       "      <td>Year 2019</td>\n",
       "      <td>12116</td>\n",
       "      <td>662</td>\n",
       "    </tr>\n",
       "    <tr>\n",
       "      <th>5</th>\n",
       "      <td>Year 2020</td>\n",
       "      <td>7624</td>\n",
       "      <td>849</td>\n",
       "    </tr>\n",
       "    <tr>\n",
       "      <th>6</th>\n",
       "      <td>Year 2021</td>\n",
       "      <td>11793</td>\n",
       "      <td>548</td>\n",
       "    </tr>\n",
       "  </tbody>\n",
       "</table>\n",
       "</div>"
      ],
      "text/plain": [
       "  Demographic Year  No. of Male  No. of Female\n",
       "0        Year 2015         7507            322\n",
       "1        Year 2016         8874            390\n",
       "2        Year 2017        10586            517\n",
       "3        Year 2018        10828            599\n",
       "4        Year 2019        12116            662\n",
       "5        Year 2020         7624            849\n",
       "6        Year 2021        11793            548"
      ]
     },
     "metadata": {},
     "output_type": "display_data"
    }
   ],
   "source": [
    "dataset = pd.read_csv(r\"C:\\Users\\user\\Documents\\Total Reported Cases per Year.csv\")\n",
    "display(dataset.iloc[0:,[0,4,5]])"
   ]
  },
  {
   "cell_type": "code",
   "execution_count": 181,
   "id": "dab0a3e4",
   "metadata": {},
   "outputs": [
    {
     "name": "stderr",
     "output_type": "stream",
     "text": [
      "C:\\Users\\user\\AppData\\Local\\Temp\\ipykernel_8896\\1417236105.py:12: UserWarning:\n",
      "\n",
      "linestyle is redundantly defined by the 'linestyle' keyword argument and the fmt string \"g-o\" (-> linestyle='-'). The keyword argument will take precedence.\n",
      "\n",
      "C:\\Users\\user\\AppData\\Local\\Temp\\ipykernel_8896\\1417236105.py:13: UserWarning:\n",
      "\n",
      "linestyle is redundantly defined by the 'linestyle' keyword argument and the fmt string \"y-s\" (-> linestyle='-'). The keyword argument will take precedence.\n",
      "\n"
     ]
    },
    {
     "data": {
      "image/png": "[encoded data removed]",
      "text/plain": [
       "<Figure size 864x576 with 1 Axes>"
      ]
     },
     "metadata": {},
     "output_type": "display_data"
    }
   ],
   "source": [
    "Year = dataset[\"Demographic Year\"]\n",
    "Male = dataset[\"No. of Male\"]\n",
    "Female = dataset[\"No. of Female\"]\n",
    "\n",
    "def add_value_label(x_list,y_list):\n",
    "    for i in range(1, len(x_list)+1):\n",
    "        plt.text(i,y_list[i-1],y_list[i-1], ha=\"center\")\n",
    "        \n",
    "fig, ax = plt.subplots(figsize=(12,8))\n",
    "plt.style.use('seaborn')\n",
    "\n",
    "plt.plot(Year,Male,'g-o',ms=8,linestyle='dashdot', label='Number of Male Cases')\n",
    "plt.plot(Year,Female,'y-s',ms=8,linestyle='dashdot', label='Number of Female Cases')\n",
    "plt.title(\"Total Number of Male & Female Cases from 2015-2021\",fontsize=20, fontweight=\"bold\")\n",
    "for index in range(len(Year)):\n",
    "  ax.text(Year[index], Male[index], Male[index], size=15,color='black', fontweight=\"bold\")\n",
    "for index in range(len(Year)):\n",
    "  ax.text(Year[index], Female[index], Female[index], size=15, fontweight=\"bold\")\n",
    "plt.xticks(Year, size=12)\n",
    "plt.yticks(size=12)\n",
    "plt.xlabel(\"Years\", size=15)\n",
    "plt.ylabel(\"Number of Cases\", size=13)\n",
    "plt.grid(color = 'black', linestyle = '-', linewidth = 0.7)\n",
    "plt.legend(fontsize=12)\n",
    "plt.show()"
   ]
  },
  {
   "cell_type": "code",
   "execution_count": 182,
   "id": "1edce018",
   "metadata": {},
   "outputs": [
    {
     "data": {
      "text/html": [
       "<div>\n",
       "<style scoped>\n",
       "    .dataframe tbody tr th:only-of-type {\n",
       "        vertical-align: middle;\n",
       "    }\n",
       "\n",
       "    .dataframe tbody tr th {\n",
       "        vertical-align: top;\n",
       "    }\n",
       "\n",
       "    .dataframe thead th {\n",
       "        text-align: right;\n",
       "    }\n",
       "</style>\n",
       "<table border=\"1\" class=\"dataframe\">\n",
       "  <thead>\n",
       "    <tr style=\"text-align: right;\">\n",
       "      <th></th>\n",
       "      <th>Demographic Year</th>\n",
       "      <th>Less than 15 y/o</th>\n",
       "      <th>15-24 y/o</th>\n",
       "      <th>25-34 y/o</th>\n",
       "      <th>35-49 y/o</th>\n",
       "      <th>50 y/o and above</th>\n",
       "    </tr>\n",
       "  </thead>\n",
       "  <tbody>\n",
       "    <tr>\n",
       "      <th>0</th>\n",
       "      <td>Year 2015</td>\n",
       "      <td>20</td>\n",
       "      <td>2215</td>\n",
       "      <td>4130</td>\n",
       "      <td>1291</td>\n",
       "      <td>173</td>\n",
       "    </tr>\n",
       "    <tr>\n",
       "      <th>1</th>\n",
       "      <td>Year 2016</td>\n",
       "      <td>22</td>\n",
       "      <td>2625</td>\n",
       "      <td>4921</td>\n",
       "      <td>1510</td>\n",
       "      <td>186</td>\n",
       "    </tr>\n",
       "    <tr>\n",
       "      <th>2</th>\n",
       "      <td>Year 2017</td>\n",
       "      <td>38</td>\n",
       "      <td>3451</td>\n",
       "      <td>5581</td>\n",
       "      <td>1769</td>\n",
       "      <td>264</td>\n",
       "    </tr>\n",
       "    <tr>\n",
       "      <th>3</th>\n",
       "      <td>Year 2018</td>\n",
       "      <td>30</td>\n",
       "      <td>3391</td>\n",
       "      <td>5756</td>\n",
       "      <td>1991</td>\n",
       "      <td>259</td>\n",
       "    </tr>\n",
       "    <tr>\n",
       "      <th>4</th>\n",
       "      <td>Year 2019</td>\n",
       "      <td>38</td>\n",
       "      <td>3952</td>\n",
       "      <td>6354</td>\n",
       "      <td>2068</td>\n",
       "      <td>366</td>\n",
       "    </tr>\n",
       "    <tr>\n",
       "      <th>5</th>\n",
       "      <td>Year 2020</td>\n",
       "      <td>32</td>\n",
       "      <td>2241</td>\n",
       "      <td>4071</td>\n",
       "      <td>1480</td>\n",
       "      <td>234</td>\n",
       "    </tr>\n",
       "    <tr>\n",
       "      <th>6</th>\n",
       "      <td>Year 2021</td>\n",
       "      <td>30</td>\n",
       "      <td>3684</td>\n",
       "      <td>6262</td>\n",
       "      <td>2063</td>\n",
       "      <td>301</td>\n",
       "    </tr>\n",
       "  </tbody>\n",
       "</table>\n",
       "</div>"
      ],
      "text/plain": [
       "  Demographic Year  Less than 15 y/o  15-24 y/o  25-34 y/o  35-49 y/o  \\\n",
       "0        Year 2015                20       2215       4130       1291   \n",
       "1        Year 2016                22       2625       4921       1510   \n",
       "2        Year 2017                38       3451       5581       1769   \n",
       "3        Year 2018                30       3391       5756       1991   \n",
       "4        Year 2019                38       3952       6354       2068   \n",
       "5        Year 2020                32       2241       4071       1480   \n",
       "6        Year 2021                30       3684       6262       2063   \n",
       "\n",
       "   50 y/o and above  \n",
       "0               173  \n",
       "1               186  \n",
       "2               264  \n",
       "3               259  \n",
       "4               366  \n",
       "5               234  \n",
       "6               301  "
      ]
     },
     "metadata": {},
     "output_type": "display_data"
    }
   ],
   "source": [
    "dataset = pd.read_csv(r\"C:\\Users\\user\\Documents\\Total Reported Cases per Year.csv\")\n",
    "display(dataset.iloc[0:,[0,6,7,8,9,10]])"
   ]
  },
  {
   "cell_type": "code",
   "execution_count": 183,
   "id": "c77206d4",
   "metadata": {},
   "outputs": [
    {
     "data": {
      "image/png": "[encoded data removed]",
      "text/plain": [
       "<Figure size 1080x720 with 1 Axes>"
      ]
     },
     "metadata": {},
     "output_type": "display_data"
    }
   ],
   "source": [
    "Year = dataset[\"Demographic Year\"]\n",
    "A1 =dataset[\"Less than 15 y/o\"]\n",
    "A2 =dataset[\"15-24 y/o\"]\n",
    "A3 = dataset[\"25-34 y/o\"]\n",
    "A4 = dataset[\"35-49 y/o\"]\n",
    "A5 = dataset[\"50 y/o and above\"]\n",
    "\n",
    "def add_value_label(x_list,y_list):\n",
    "    for i in range(1, len(x_list)+1):\n",
    "        plt.annotate(y_list[i-1],(i,y_list[i-1]),ha=\"center\")\n",
    "        \n",
    "fig, ax = plt.subplots(figsize=(15,10))\n",
    "sns.set_style(\"dark\")\n",
    "\n",
    "barTry=0.20\n",
    "X_axis=np.arange(len(Year))\n",
    "plt.bar(X_axis -0.35,A1, color='r',width=barTry, edgecolor = \"black\", label='Less than 15 y/o')\n",
    "plt.bar(X_axis -0.20,A2, color='b',width=barTry, edgecolor = \"black\", label='15-24 y/o')\n",
    "plt.bar(X_axis,A3, color='purple',width=barTry, edgecolor = \"black\", label='25-34 y/o')\n",
    "plt.bar(X_axis +0.20,A4, color='g',width=barTry, edgecolor = \"black\", label='35-49 y/o')\n",
    "plt.bar(X_axis +0.40,A5, color='orange',width=barTry, edgecolor = \"black\", label='50 y/o and above')\n",
    "plt.xticks(X_axis,Year)\n",
    "plt.title(\"Total Number of Reported Cases by their Age from 2015-2021\",fontsize=20, fontweight=\"bold\")\n",
    "plt.xticks(size=15)\n",
    "plt.yticks(size=15)\n",
    "plt.xlabel(\"Years\", size=18)\n",
    "plt.ylabel(\"Number of Reported Cases\", size=18)\n",
    "plt.grid(color = 'black', linestyle = '-', linewidth = 0.7)\n",
    "plt.legend(fontsize=13)\n",
    "plt.show()"
   ]
  },
  {
   "cell_type": "code",
   "execution_count": 184,
   "id": "be9e9b05",
   "metadata": {},
   "outputs": [
    {
     "data": {
      "text/html": [
       "<div>\n",
       "<style scoped>\n",
       "    .dataframe tbody tr th:only-of-type {\n",
       "        vertical-align: middle;\n",
       "    }\n",
       "\n",
       "    .dataframe tbody tr th {\n",
       "        vertical-align: top;\n",
       "    }\n",
       "\n",
       "    .dataframe thead th {\n",
       "        text-align: right;\n",
       "    }\n",
       "</style>\n",
       "<table border=\"1\" class=\"dataframe\">\n",
       "  <thead>\n",
       "    <tr style=\"text-align: right;\">\n",
       "      <th></th>\n",
       "      <th>Demographic Year</th>\n",
       "      <th>Total Reported Cases</th>\n",
       "      <th>Sexual Contact</th>\n",
       "      <th>Blood/Blood Products</th>\n",
       "      <th>Sharing of Needles</th>\n",
       "      <th>Needle Prick Injury</th>\n",
       "      <th>Mother to Child</th>\n",
       "      <th>No Data Available</th>\n",
       "    </tr>\n",
       "  </thead>\n",
       "  <tbody>\n",
       "    <tr>\n",
       "      <th>0</th>\n",
       "      <td>Year 2015</td>\n",
       "      <td>7892</td>\n",
       "      <td>7540</td>\n",
       "      <td>0</td>\n",
       "      <td>272</td>\n",
       "      <td>0</td>\n",
       "      <td>17</td>\n",
       "      <td>0</td>\n",
       "    </tr>\n",
       "    <tr>\n",
       "      <th>1</th>\n",
       "      <td>Year 2016</td>\n",
       "      <td>9264</td>\n",
       "      <td>8849</td>\n",
       "      <td>9</td>\n",
       "      <td>392</td>\n",
       "      <td>0</td>\n",
       "      <td>23</td>\n",
       "      <td>0</td>\n",
       "    </tr>\n",
       "    <tr>\n",
       "      <th>2</th>\n",
       "      <td>Year 2017</td>\n",
       "      <td>11103</td>\n",
       "      <td>10740</td>\n",
       "      <td>0</td>\n",
       "      <td>260</td>\n",
       "      <td>0</td>\n",
       "      <td>36</td>\n",
       "      <td>67</td>\n",
       "    </tr>\n",
       "    <tr>\n",
       "      <th>3</th>\n",
       "      <td>Year 2018</td>\n",
       "      <td>11427</td>\n",
       "      <td>11146</td>\n",
       "      <td>0</td>\n",
       "      <td>176</td>\n",
       "      <td>0</td>\n",
       "      <td>23</td>\n",
       "      <td>82</td>\n",
       "    </tr>\n",
       "    <tr>\n",
       "      <th>4</th>\n",
       "      <td>Year 2019</td>\n",
       "      <td>12778</td>\n",
       "      <td>12429</td>\n",
       "      <td>0</td>\n",
       "      <td>138</td>\n",
       "      <td>0</td>\n",
       "      <td>33</td>\n",
       "      <td>115</td>\n",
       "    </tr>\n",
       "    <tr>\n",
       "      <th>5</th>\n",
       "      <td>Year 2020</td>\n",
       "      <td>8058</td>\n",
       "      <td>7819</td>\n",
       "      <td>0</td>\n",
       "      <td>81</td>\n",
       "      <td>0</td>\n",
       "      <td>23</td>\n",
       "      <td>135</td>\n",
       "    </tr>\n",
       "    <tr>\n",
       "      <th>6</th>\n",
       "      <td>Year 2021</td>\n",
       "      <td>12341</td>\n",
       "      <td>11968</td>\n",
       "      <td>0</td>\n",
       "      <td>96</td>\n",
       "      <td>0</td>\n",
       "      <td>24</td>\n",
       "      <td>253</td>\n",
       "    </tr>\n",
       "  </tbody>\n",
       "</table>\n",
       "</div>"
      ],
      "text/plain": [
       "  Demographic Year  Total Reported Cases  Sexual Contact  \\\n",
       "0        Year 2015                  7892            7540   \n",
       "1        Year 2016                  9264            8849   \n",
       "2        Year 2017                 11103           10740   \n",
       "3        Year 2018                 11427           11146   \n",
       "4        Year 2019                 12778           12429   \n",
       "5        Year 2020                  8058            7819   \n",
       "6        Year 2021                 12341           11968   \n",
       "\n",
       "   Blood/Blood Products  Sharing of Needles  Needle Prick Injury  \\\n",
       "0                     0                 272                    0   \n",
       "1                     9                 392                    0   \n",
       "2                     0                 260                    0   \n",
       "3                     0                 176                    0   \n",
       "4                     0                 138                    0   \n",
       "5                     0                  81                    0   \n",
       "6                     0                  96                    0   \n",
       "\n",
       "   Mother to Child  No Data Available  \n",
       "0               17                  0  \n",
       "1               23                  0  \n",
       "2               36                 67  \n",
       "3               23                 82  \n",
       "4               33                115  \n",
       "5               23                135  \n",
       "6               24                253  "
      ]
     },
     "metadata": {},
     "output_type": "display_data"
    }
   ],
   "source": [
    "dataset = pd.read_csv(r\"C:\\Users\\user\\Documents\\Type of Transmission.csv\")\n",
    "display(dataset)"
   ]
  },
  {
   "cell_type": "code",
   "execution_count": 185,
   "id": "3c43fc83",
   "metadata": {},
   "outputs": [
    {
     "data": {
      "image/png": "[encoded data removed]",
      "text/plain": [
       "<Figure size 1080x720 with 1 Axes>"
      ]
     },
     "metadata": {},
     "output_type": "display_data"
    }
   ],
   "source": [
    "Year = dataset[\"Demographic Year\"]\n",
    "B1 = dataset[\"Sexual Contact\"]\n",
    "B2 = dataset[\"Blood/Blood Products\"]\n",
    "B3 = dataset[\"Sharing of Needles\"]\n",
    "B4 = dataset[\"Needle Prick Injury\"]\n",
    "B5 = dataset[\"Mother to Child\"]\n",
    "B6 = dataset[\"No Data Available\"]\n",
    "\n",
    "def add_value_label(x_list,y_list):\n",
    "    for i in range(1, len(x_list)+1):\n",
    "        plt.text(i,y_list[i-1]/2,y_list[i-1], ha=\"center\")\n",
    "        \n",
    "fig, ax = plt.subplots(figsize=(15,10))\n",
    "plt.style.use('seaborn')\n",
    "\n",
    "Y_axis=np.arange(len(Year))\n",
    "barTry=0.20\n",
    "plt.bar(Y_axis -0.30 , B1, color='r',width = barTry,edgecolor = \"black\", label='Sexual Contact')\n",
    "plt.bar(Y_axis -0.15, B2, color='y',width = barTry,edgecolor = \"black\", label='Blood/Blood Products')\n",
    "plt.bar(Y_axis, B3, color='b',width = barTry,edgecolor = \"black\", label='Sharing of Needles')\n",
    "plt.bar(Y_axis +0.15, B4, color='orange',width = barTry,edgecolor = \"black\", label='Needle Prick Injury')\n",
    "plt.bar(Y_axis +0.30, B5, color='purple',width = barTry,edgecolor = \"black\", label='Mother to Child')\n",
    "plt.bar(Y_axis +0.45, B6, color='g',width = barTry,edgecolor = \"black\", label='No Data Available')\n",
    "plt.xticks(Y_axis,Year)\n",
    "plt.title(\"Type of Transmission of HIV/AIDS from 2015-2021\",fontsize=20, fontweight=\"bold\")\n",
    "plt.xticks(size=15)\n",
    "plt.yticks(size=15)\n",
    "plt.xlabel(\"Years\", size=18)\n",
    "plt.ylabel(\"Number of Reported Cases\", size=18)\n",
    "plt.grid(color = 'black', linestyle = '-', linewidth = 0.7)\n",
    "plt.legend(bbox_to_anchor=(1.0, 1.0),fontsize=15)\n",
    "plt.show()"
   ]
  },
  {
   "cell_type": "code",
   "execution_count": 186,
   "id": "d8ea8511",
   "metadata": {
    "scrolled": true
   },
   "outputs": [
    {
     "data": {
      "text/html": [
       "<div>\n",
       "<style scoped>\n",
       "    .dataframe tbody tr th:only-of-type {\n",
       "        vertical-align: middle;\n",
       "    }\n",
       "\n",
       "    .dataframe tbody tr th {\n",
       "        vertical-align: top;\n",
       "    }\n",
       "\n",
       "    .dataframe thead th {\n",
       "        text-align: right;\n",
       "    }\n",
       "</style>\n",
       "<table border=\"1\" class=\"dataframe\">\n",
       "  <thead>\n",
       "    <tr style=\"text-align: right;\">\n",
       "      <th></th>\n",
       "      <th>REGIONS</th>\n",
       "      <th>Year 2015(%)</th>\n",
       "      <th>Year 2016(%)</th>\n",
       "      <th>Year 2017(%)</th>\n",
       "      <th>Year 2018(%)</th>\n",
       "      <th>Year 2019(%)</th>\n",
       "      <th>Year 2020(%)</th>\n",
       "      <th>Year 2021(%)</th>\n",
       "    </tr>\n",
       "  </thead>\n",
       "  <tbody>\n",
       "    <tr>\n",
       "      <th>0</th>\n",
       "      <td>NCR</td>\n",
       "      <td>15%</td>\n",
       "      <td>36%</td>\n",
       "      <td>35%</td>\n",
       "      <td>37%</td>\n",
       "      <td>33%</td>\n",
       "      <td>28%</td>\n",
       "      <td>30%</td>\n",
       "    </tr>\n",
       "    <tr>\n",
       "      <th>1</th>\n",
       "      <td>Region 1</td>\n",
       "      <td>2%</td>\n",
       "      <td>3%</td>\n",
       "      <td>4%</td>\n",
       "      <td>3%</td>\n",
       "      <td>3%</td>\n",
       "      <td>6%</td>\n",
       "      <td>3%</td>\n",
       "    </tr>\n",
       "    <tr>\n",
       "      <th>2</th>\n",
       "      <td>Region 2</td>\n",
       "      <td>1%</td>\n",
       "      <td>1%</td>\n",
       "      <td>2%</td>\n",
       "      <td>1%</td>\n",
       "      <td>2%</td>\n",
       "      <td>2%</td>\n",
       "      <td>1%</td>\n",
       "    </tr>\n",
       "    <tr>\n",
       "      <th>3</th>\n",
       "      <td>Region 3</td>\n",
       "      <td>10%</td>\n",
       "      <td>10%</td>\n",
       "      <td>11%</td>\n",
       "      <td>11%</td>\n",
       "      <td>11%</td>\n",
       "      <td>8%</td>\n",
       "      <td>13%</td>\n",
       "    </tr>\n",
       "    <tr>\n",
       "      <th>4</th>\n",
       "      <td>Region 4A</td>\n",
       "      <td>15%</td>\n",
       "      <td>18%</td>\n",
       "      <td>15%</td>\n",
       "      <td>17%</td>\n",
       "      <td>17%</td>\n",
       "      <td>13%</td>\n",
       "      <td>20%</td>\n",
       "    </tr>\n",
       "    <tr>\n",
       "      <th>5</th>\n",
       "      <td>Region 4B</td>\n",
       "      <td>2%</td>\n",
       "      <td>2%</td>\n",
       "      <td>1%</td>\n",
       "      <td>1%</td>\n",
       "      <td>1%</td>\n",
       "      <td>3%</td>\n",
       "      <td>1%</td>\n",
       "    </tr>\n",
       "    <tr>\n",
       "      <th>6</th>\n",
       "      <td>Region 5</td>\n",
       "      <td>1%</td>\n",
       "      <td>1%</td>\n",
       "      <td>3%</td>\n",
       "      <td>2%</td>\n",
       "      <td>3%</td>\n",
       "      <td>2%</td>\n",
       "      <td>2%</td>\n",
       "    </tr>\n",
       "    <tr>\n",
       "      <th>7</th>\n",
       "      <td>Region 6</td>\n",
       "      <td>6%</td>\n",
       "      <td>3%</td>\n",
       "      <td>7%</td>\n",
       "      <td>7%</td>\n",
       "      <td>6%</td>\n",
       "      <td>2%</td>\n",
       "      <td>8%</td>\n",
       "    </tr>\n",
       "    <tr>\n",
       "      <th>8</th>\n",
       "      <td>Region 7</td>\n",
       "      <td>7%</td>\n",
       "      <td>8%</td>\n",
       "      <td>7%</td>\n",
       "      <td>8%</td>\n",
       "      <td>8%</td>\n",
       "      <td>26%</td>\n",
       "      <td>7%</td>\n",
       "    </tr>\n",
       "    <tr>\n",
       "      <th>9</th>\n",
       "      <td>Region 8</td>\n",
       "      <td>1%</td>\n",
       "      <td>1%</td>\n",
       "      <td>2%</td>\n",
       "      <td>1%</td>\n",
       "      <td>2%</td>\n",
       "      <td>4%</td>\n",
       "      <td>1%</td>\n",
       "    </tr>\n",
       "    <tr>\n",
       "      <th>10</th>\n",
       "      <td>Region 9</td>\n",
       "      <td>2%</td>\n",
       "      <td>2%</td>\n",
       "      <td>1%</td>\n",
       "      <td>2%</td>\n",
       "      <td>1%</td>\n",
       "      <td>1%</td>\n",
       "      <td>2%</td>\n",
       "    </tr>\n",
       "    <tr>\n",
       "      <th>11</th>\n",
       "      <td>Region 10</td>\n",
       "      <td>2%</td>\n",
       "      <td>2%</td>\n",
       "      <td>3%</td>\n",
       "      <td>3%</td>\n",
       "      <td>3%</td>\n",
       "      <td>3%</td>\n",
       "      <td>3%</td>\n",
       "    </tr>\n",
       "    <tr>\n",
       "      <th>12</th>\n",
       "      <td>Region 11</td>\n",
       "      <td>8%</td>\n",
       "      <td>6%</td>\n",
       "      <td>4%</td>\n",
       "      <td>3%</td>\n",
       "      <td>5%</td>\n",
       "      <td>2%</td>\n",
       "      <td>4%</td>\n",
       "    </tr>\n",
       "    <tr>\n",
       "      <th>13</th>\n",
       "      <td>Region 12</td>\n",
       "      <td>3%</td>\n",
       "      <td>2%</td>\n",
       "      <td>2%</td>\n",
       "      <td>2%</td>\n",
       "      <td>3%</td>\n",
       "      <td>&lt;1%</td>\n",
       "      <td>2%</td>\n",
       "    </tr>\n",
       "    <tr>\n",
       "      <th>14</th>\n",
       "      <td>CAR</td>\n",
       "      <td>1%</td>\n",
       "      <td>&lt;1%</td>\n",
       "      <td>1%</td>\n",
       "      <td>1%</td>\n",
       "      <td>1%</td>\n",
       "      <td>&lt;1%</td>\n",
       "      <td>1%</td>\n",
       "    </tr>\n",
       "    <tr>\n",
       "      <th>15</th>\n",
       "      <td>CARAGA</td>\n",
       "      <td>1%</td>\n",
       "      <td>2%</td>\n",
       "      <td>2%</td>\n",
       "      <td>1%</td>\n",
       "      <td>1%</td>\n",
       "      <td>&lt;1%</td>\n",
       "      <td>2%</td>\n",
       "    </tr>\n",
       "    <tr>\n",
       "      <th>16</th>\n",
       "      <td>ARMM</td>\n",
       "      <td>&lt;1%</td>\n",
       "      <td>&lt;1%</td>\n",
       "      <td>&lt;1%</td>\n",
       "      <td>&lt;1%</td>\n",
       "      <td>-</td>\n",
       "      <td>-</td>\n",
       "      <td>-</td>\n",
       "    </tr>\n",
       "  </tbody>\n",
       "</table>\n",
       "</div>"
      ],
      "text/plain": [
       "      REGIONS Year 2015(%) Year 2016(%) Year 2017(%) Year 2018(%)  \\\n",
       "0         NCR          15%          36%          35%          37%   \n",
       "1    Region 1           2%           3%           4%           3%   \n",
       "2    Region 2           1%           1%           2%           1%   \n",
       "3    Region 3          10%          10%          11%          11%   \n",
       "4   Region 4A          15%          18%          15%          17%   \n",
       "5   Region 4B           2%           2%           1%           1%   \n",
       "6    Region 5           1%           1%           3%           2%   \n",
       "7    Region 6           6%           3%           7%           7%   \n",
       "8    Region 7           7%           8%           7%           8%   \n",
       "9    Region 8           1%           1%           2%           1%   \n",
       "10   Region 9           2%           2%           1%           2%   \n",
       "11  Region 10           2%           2%           3%           3%   \n",
       "12  Region 11           8%           6%           4%           3%   \n",
       "13  Region 12           3%           2%           2%           2%   \n",
       "14        CAR           1%          <1%           1%           1%   \n",
       "15     CARAGA           1%           2%           2%           1%   \n",
       "16       ARMM          <1%          <1%          <1%          <1%   \n",
       "\n",
       "   Year 2019(%) Year 2020(%) Year 2021(%)  \n",
       "0           33%          28%          30%  \n",
       "1            3%           6%           3%  \n",
       "2            2%           2%           1%  \n",
       "3           11%           8%          13%  \n",
       "4           17%          13%          20%  \n",
       "5            1%           3%           1%  \n",
       "6            3%           2%           2%  \n",
       "7            6%           2%           8%  \n",
       "8            8%          26%           7%  \n",
       "9            2%           4%           1%  \n",
       "10           1%           1%           2%  \n",
       "11           3%           3%           3%  \n",
       "12           5%           2%           4%  \n",
       "13           3%          <1%           2%  \n",
       "14           1%          <1%           1%  \n",
       "15           1%          <1%           2%  \n",
       "16            -            -            -  "
      ]
     },
     "metadata": {},
     "output_type": "display_data"
    }
   ],
   "source": [
    "dataset = pd.read_csv(r\"C:\\Users\\user\\Documents\\Diagnosed Cases by Region (2015-2021).csv\")\n",
    "display(dataset)"
   ]
  },
  {
   "cell_type": "code",
   "execution_count": 188,
   "id": "f1d55d86",
   "metadata": {},
   "outputs": [
    {
     "data": {
      "application/vnd.plotly.v1+json": {
       "config": {
        "plotlyServerURL": "https://plot.ly"
       },
       "data": [
        {
         "hovertemplate": "variable=Region 1<br>Year=%{x}<br>value=%{y}<extra></extra>",
         "legendgroup": "Region 1",
         "marker": {
          "color": "#636efa",
          "symbol": "circle"
         },
         "mode": "markers",
         "name": "Region 1",
         "orientation": "v",
         "showlegend": true,
         "type": "scatter",
         "x": [
          2015,
          2016,
          2017,
          2018,
          2019,
          2020,
          2021
         ],
         "xaxis": "x",
         "y": [
          2,
          3,
          4,
          3,
          3,
          6,
          3
         ],
         "yaxis": "y"
        },
        {
         "hovertemplate": "variable=Region 2<br>Year=%{x}<br>value=%{y}<extra></extra>",
         "legendgroup": "Region 2",
         "marker": {
          "color": "#EF553B",
          "symbol": "circle"
         },
         "mode": "markers",
         "name": "Region 2",
         "orientation": "v",
         "showlegend": true,
         "type": "scatter",
         "x": [
          2015,
          2016,
          2017,
          2018,
          2019,
          2020,
          2021
         ],
         "xaxis": "x",
         "y": [
          1,
          1,
          2,
          1,
          2,
          2,
          1
         ],
         "yaxis": "y"
        },
        {
         "hovertemplate": "variable=Region 3<br>Year=%{x}<br>value=%{y}<extra></extra>",
         "legendgroup": "Region 3",
         "marker": {
          "color": "#00cc96",
          "symbol": "circle"
         },
         "mode": "markers",
         "name": "Region 3",
         "orientation": "v",
         "showlegend": true,
         "type": "scatter",
         "x": [
          2015,
          2016,
          2017,
          2018,
          2019,
          2020,
          2021
         ],
         "xaxis": "x",
         "y": [
          10,
          10,
          11,
          11,
          11,
          8,
          13
         ],
         "yaxis": "y"
        },
        {
         "hovertemplate": "variable=Region 4A<br>Year=%{x}<br>value=%{y}<extra></extra>",
         "legendgroup": "Region 4A",
         "marker": {
          "color": "#ab63fa",
          "symbol": "circle"
         },
         "mode": "markers",
         "name": "Region 4A",
         "orientation": "v",
         "showlegend": true,
         "type": "scatter",
         "x": [
          2015,
          2016,
          2017,
          2018,
          2019,
          2020,
          2021
         ],
         "xaxis": "x",
         "y": [
          15,
          18,
          15,
          17,
          17,
          13,
          20
         ],
         "yaxis": "y"
        },
        {
         "hovertemplate": "variable=Region 4B<br>Year=%{x}<br>value=%{y}<extra></extra>",
         "legendgroup": "Region 4B",
         "marker": {
          "color": "#FFA15A",
          "symbol": "circle"
         },
         "mode": "markers",
         "name": "Region 4B",
         "orientation": "v",
         "showlegend": true,
         "type": "scatter",
         "x": [
          2015,
          2016,
          2017,
          2018,
          2019,
          2020,
          2021
         ],
         "xaxis": "x",
         "y": [
          2,
          2,
          1,
          1,
          1,
          3,
          1
         ],
         "yaxis": "y"
        },
        {
         "hovertemplate": "variable=Region 5<br>Year=%{x}<br>value=%{y}<extra></extra>",
         "legendgroup": "Region 5",
         "marker": {
          "color": "#19d3f3",
          "symbol": "circle"
         },
         "mode": "markers",
         "name": "Region 5",
         "orientation": "v",
         "showlegend": true,
         "type": "scatter",
         "x": [
          2015,
          2016,
          2017,
          2018,
          2019,
          2020,
          2021
         ],
         "xaxis": "x",
         "y": [
          1,
          1,
          3,
          2,
          3,
          2,
          2
         ],
         "yaxis": "y"
        },
        {
         "hovertemplate": "variable=Region 6<br>Year=%{x}<br>value=%{y}<extra></extra>",
         "legendgroup": "Region 6",
         "marker": {
          "color": "#FF6692",
          "symbol": "circle"
         },
         "mode": "markers",
         "name": "Region 6",
         "orientation": "v",
         "showlegend": true,
         "type": "scatter",
         "x": [
          2015,
          2016,
          2017,
          2018,
          2019,
          2020,
          2021
         ],
         "xaxis": "x",
         "y": [
          6,
          3,
          7,
          7,
          6,
          2,
          8
         ],
         "yaxis": "y"
        },
        {
         "hovertemplate": "variable=Region 7<br>Year=%{x}<br>value=%{y}<extra></extra>",
         "legendgroup": "Region 7",
         "marker": {
          "color": "#B6E880",
          "symbol": "circle"
         },
         "mode": "markers",
         "name": "Region 7",
         "orientation": "v",
         "showlegend": true,
         "type": "scatter",
         "x": [
          2015,
          2016,
          2017,
          2018,
          2019,
          2020,
          2021
         ],
         "xaxis": "x",
         "y": [
          7,
          8,
          7,
          8,
          8,
          26,
          7
         ],
         "yaxis": "y"
        },
        {
         "hovertemplate": "variable=Region 8<br>Year=%{x}<br>value=%{y}<extra></extra>",
         "legendgroup": "Region 8",
         "marker": {
          "color": "#FF97FF",
          "symbol": "circle"
         },
         "mode": "markers",
         "name": "Region 8",
         "orientation": "v",
         "showlegend": true,
         "type": "scatter",
         "x": [
          2015,
          2016,
          2017,
          2018,
          2019,
          2020,
          2021
         ],
         "xaxis": "x",
         "y": [
          1,
          1,
          2,
          1,
          2,
          4,
          1
         ],
         "yaxis": "y"
        },
        {
         "hovertemplate": "variable=Region 9<br>Year=%{x}<br>value=%{y}<extra></extra>",
         "legendgroup": "Region 9",
         "marker": {
          "color": "#FECB52",
          "symbol": "circle"
         },
         "mode": "markers",
         "name": "Region 9",
         "orientation": "v",
         "showlegend": true,
         "type": "scatter",
         "x": [
          2015,
          2016,
          2017,
          2018,
          2019,
          2020,
          2021
         ],
         "xaxis": "x",
         "y": [
          2,
          2,
          1,
          2,
          1,
          1,
          2
         ],
         "yaxis": "y"
        },
        {
         "hovertemplate": "variable=Region 10<br>Year=%{x}<br>value=%{y}<extra></extra>",
         "legendgroup": "Region 10",
         "marker": {
          "color": "#636efa",
          "symbol": "circle"
         },
         "mode": "markers",
         "name": "Region 10",
         "orientation": "v",
         "showlegend": true,
         "type": "scatter",
         "x": [
          2015,
          2016,
          2017,
          2018,
          2019,
          2020,
          2021
         ],
         "xaxis": "x",
         "y": [
          2,
          2,
          3,
          3,
          3,
          3,
          3
         ],
         "yaxis": "y"
        },
        {
         "hovertemplate": "variable=Region 11<br>Year=%{x}<br>value=%{y}<extra></extra>",
         "legendgroup": "Region 11",
         "marker": {
          "color": "#EF553B",
          "symbol": "circle"
         },
         "mode": "markers",
         "name": "Region 11",
         "orientation": "v",
         "showlegend": true,
         "type": "scatter",
         "x": [
          2015,
          2016,
          2017,
          2018,
          2019,
          2020,
          2021
         ],
         "xaxis": "x",
         "y": [
          8,
          6,
          4,
          3,
          5,
          2,
          4
         ],
         "yaxis": "y"
        },
        {
         "hovertemplate": "variable=Region 12<br>Year=%{x}<br>value=%{y}<extra></extra>",
         "legendgroup": "Region 12",
         "marker": {
          "color": "#00cc96",
          "symbol": "circle"
         },
         "mode": "markers",
         "name": "Region 12",
         "orientation": "v",
         "showlegend": true,
         "type": "scatter",
         "x": [
          2015,
          2016,
          2017,
          2018,
          2019,
          2020,
          2021
         ],
         "xaxis": "x",
         "y": [
          3,
          2,
          2,
          2,
          3,
          1,
          2
         ],
         "yaxis": "y"
        },
        {
         "hovertemplate": "variable=NCR<br>Year=%{x}<br>value=%{y}<extra></extra>",
         "legendgroup": "NCR",
         "marker": {
          "color": "#ab63fa",
          "symbol": "circle"
         },
         "mode": "markers",
         "name": "NCR",
         "orientation": "v",
         "showlegend": true,
         "type": "scatter",
         "x": [
          2015,
          2016,
          2017,
          2018,
          2019,
          2020,
          2021
         ],
         "xaxis": "x",
         "y": [
          15,
          36,
          35,
          37,
          33,
          28,
          30
         ],
         "yaxis": "y"
        },
        {
         "hovertemplate": "variable=CARAGA<br>Year=%{x}<br>value=%{y}<extra></extra>",
         "legendgroup": "CARAGA",
         "marker": {
          "color": "#FFA15A",
          "symbol": "circle"
         },
         "mode": "markers",
         "name": "CARAGA",
         "orientation": "v",
         "showlegend": true,
         "type": "scatter",
         "x": [
          2015,
          2016,
          2017,
          2018,
          2019,
          2020,
          2021
         ],
         "xaxis": "x",
         "y": [
          1,
          2,
          2,
          1,
          1,
          1,
          2
         ],
         "yaxis": "y"
        },
        {
         "hovertemplate": "variable=ARMM<br>Year=%{x}<br>value=%{y}<extra></extra>",
         "legendgroup": "ARMM",
         "marker": {
          "color": "#19d3f3",
          "symbol": "circle"
         },
         "mode": "markers",
         "name": "ARMM",
         "orientation": "v",
         "showlegend": true,
         "type": "scatter",
         "x": [
          2015,
          2016,
          2017,
          2018,
          2019,
          2020,
          2021
         ],
         "xaxis": "x",
         "y": [
          1,
          1,
          1,
          1,
          0,
          0,
          0
         ],
         "yaxis": "y"
        }
       ],
       "layout": {
        "height": 700,
        "legend": {
         "title": {
          "text": "variable"
         },
         "tracegroupgap": 0
        },
        "template": {
         "data": {
          "bar": [
           {
            "error_x": {
             "color": "#2a3f5f"
            },
            "error_y": {
             "color": "#2a3f5f"
            },
            "marker": {
             "line": {
              "color": "#E5ECF6",
              "width": 0.5
             },
             "pattern": {
              "fillmode": "overlay",
              "size": 10,
              "solidity": 0.2
             }
            },
            "type": "bar"
           }
          ],
          "barpolar": [
           {
            "marker": {
             "line": {
              "color": "#E5ECF6",
              "width": 0.5
             },
             "pattern": {
              "fillmode": "overlay",
              "size": 10,
              "solidity": 0.2
             }
            },
            "type": "barpolar"
           }
          ],
          "carpet": [
           {
            "aaxis": {
             "endlinecolor": "#2a3f5f",
             "gridcolor": "white",
             "linecolor": "white",
             "minorgridcolor": "white",
             "startlinecolor": "#2a3f5f"
            },
            "baxis": {
             "endlinecolor": "#2a3f5f",
             "gridcolor": "white",
             "linecolor": "white",
             "minorgridcolor": "white",
             "startlinecolor": "#2a3f5f"
            },
            "type": "carpet"
           }
          ],
          "choropleth": [
           {
            "colorbar": {
             "outlinewidth": 0,
             "ticks": ""
            },
            "type": "choropleth"
           }
          ],
          "contour": [
           {
            "colorbar": {
             "outlinewidth": 0,
             "ticks": ""
            },
            "colorscale": [
             [
              0,
              "#0d0887"
             ],
             [
              0.1111111111111111,
              "#46039f"
             ],
             [
              0.2222222222222222,
              "#7201a8"
             ],
             [
              0.3333333333333333,
              "#9c179e"
             ],
             [
              0.4444444444444444,
              "#bd3786"
             ],
             [
              0.5555555555555556,
              "#d8576b"
             ],
             [
              0.6666666666666666,
              "#ed7953"
             ],
             [
              0.7777777777777778,
              "#fb9f3a"
             ],
             [
              0.8888888888888888,
              "#fdca26"
             ],
             [
              1,
              "#f0f921"
             ]
            ],
            "type": "contour"
           }
          ],
          "contourcarpet": [
           {
            "colorbar": {
             "outlinewidth": 0,
             "ticks": ""
            },
            "type": "contourcarpet"
           }
          ],
          "heatmap": [
           {
            "colorbar": {
             "outlinewidth": 0,
             "ticks": ""
            },
            "colorscale": [
             [
              0,
              "#0d0887"
             ],
             [
              0.1111111111111111,
              "#46039f"
             ],
             [
              0.2222222222222222,
              "#7201a8"
             ],
             [
              0.3333333333333333,
              "#9c179e"
             ],
             [
              0.4444444444444444,
              "#bd3786"
             ],
             [
              0.5555555555555556,
              "#d8576b"
             ],
             [
              0.6666666666666666,
              "#ed7953"
             ],
             [
              0.7777777777777778,
              "#fb9f3a"
             ],
             [
              0.8888888888888888,
              "#fdca26"
             ],
             [
              1,
              "#f0f921"
             ]
            ],
            "type": "heatmap"
           }
          ],
          "heatmapgl": [
           {
            "colorbar": {
             "outlinewidth": 0,
             "ticks": ""
            },
            "colorscale": [
             [
              0,
              "#0d0887"
             ],
             [
              0.1111111111111111,
              "#46039f"
             ],
             [
              0.2222222222222222,
              "#7201a8"
             ],
             [
              0.3333333333333333,
              "#9c179e"
             ],
             [
              0.4444444444444444,
              "#bd3786"
             ],
             [
              0.5555555555555556,
              "#d8576b"
             ],
             [
              0.6666666666666666,
              "#ed7953"
             ],
             [
              0.7777777777777778,
              "#fb9f3a"
             ],
             [
              0.8888888888888888,
              "#fdca26"
             ],
             [
              1,
              "#f0f921"
             ]
            ],
            "type": "heatmapgl"
           }
          ],
          "histogram": [
           {
            "marker": {
             "pattern": {
              "fillmode": "overlay",
              "size": 10,
              "solidity": 0.2
             }
            },
            "type": "histogram"
           }
          ],
          "histogram2d": [
           {
            "colorbar": {
             "outlinewidth": 0,
             "ticks": ""
            },
            "colorscale": [
             [
              0,
              "#0d0887"
             ],
             [
              0.1111111111111111,
              "#46039f"
             ],
             [
              0.2222222222222222,
              "#7201a8"
             ],
             [
              0.3333333333333333,
              "#9c179e"
             ],
             [
              0.4444444444444444,
              "#bd3786"
             ],
             [
              0.5555555555555556,
              "#d8576b"
             ],
             [
              0.6666666666666666,
              "#ed7953"
             ],
             [
              0.7777777777777778,
              "#fb9f3a"
             ],
             [
              0.8888888888888888,
              "#fdca26"
             ],
             [
              1,
              "#f0f921"
             ]
            ],
            "type": "histogram2d"
           }
          ],
          "histogram2dcontour": [
           {
            "colorbar": {
             "outlinewidth": 0,
             "ticks": ""
            },
            "colorscale": [
             [
              0,
              "#0d0887"
             ],
             [
              0.1111111111111111,
              "#46039f"
             ],
             [
              0.2222222222222222,
              "#7201a8"
             ],
             [
              0.3333333333333333,
              "#9c179e"
             ],
             [
              0.4444444444444444,
              "#bd3786"
             ],
             [
              0.5555555555555556,
              "#d8576b"
             ],
             [
              0.6666666666666666,
              "#ed7953"
             ],
             [
              0.7777777777777778,
              "#fb9f3a"
             ],
             [
              0.8888888888888888,
              "#fdca26"
             ],
             [
              1,
              "#f0f921"
             ]
            ],
            "type": "histogram2dcontour"
           }
          ],
          "mesh3d": [
           {
            "colorbar": {
             "outlinewidth": 0,
             "ticks": ""
            },
            "type": "mesh3d"
           }
          ],
          "parcoords": [
           {
            "line": {
             "colorbar": {
              "outlinewidth": 0,
              "ticks": ""
             }
            },
            "type": "parcoords"
           }
          ],
          "pie": [
           {
            "automargin": true,
            "type": "pie"
           }
          ],
          "scatter": [
           {
            "marker": {
             "colorbar": {
              "outlinewidth": 0,
              "ticks": ""
             }
            },
            "type": "scatter"
           }
          ],
          "scatter3d": [
           {
            "line": {
             "colorbar": {
              "outlinewidth": 0,
              "ticks": ""
             }
            },
            "marker": {
             "colorbar": {
              "outlinewidth": 0,
              "ticks": ""
             }
            },
            "type": "scatter3d"
           }
          ],
          "scattercarpet": [
           {
            "marker": {
             "colorbar": {
              "outlinewidth": 0,
              "ticks": ""
             }
            },
            "type": "scattercarpet"
           }
          ],
          "scattergeo": [
           {
            "marker": {
             "colorbar": {
              "outlinewidth": 0,
              "ticks": ""
             }
            },
            "type": "scattergeo"
           }
          ],
          "scattergl": [
           {
            "marker": {
             "colorbar": {
              "outlinewidth": 0,
              "ticks": ""
             }
            },
            "type": "scattergl"
           }
          ],
          "scattermapbox": [
           {
            "marker": {
             "colorbar": {
              "outlinewidth": 0,
              "ticks": ""
             }
            },
            "type": "scattermapbox"
           }
          ],
          "scatterpolar": [
           {
            "marker": {
             "colorbar": {
              "outlinewidth": 0,
              "ticks": ""
             }
            },
            "type": "scatterpolar"
           }
          ],
          "scatterpolargl": [
           {
            "marker": {
             "colorbar": {
              "outlinewidth": 0,
              "ticks": ""
             }
            },
            "type": "scatterpolargl"
           }
          ],
          "scatterternary": [
           {
            "marker": {
             "colorbar": {
              "outlinewidth": 0,
              "ticks": ""
             }
            },
            "type": "scatterternary"
           }
          ],
          "surface": [
           {
            "colorbar": {
             "outlinewidth": 0,
             "ticks": ""
            },
            "colorscale": [
             [
              0,
              "#0d0887"
             ],
             [
              0.1111111111111111,
              "#46039f"
             ],
             [
              0.2222222222222222,
              "#7201a8"
             ],
             [
              0.3333333333333333,
              "#9c179e"
             ],
             [
              0.4444444444444444,
              "#bd3786"
             ],
             [
              0.5555555555555556,
              "#d8576b"
             ],
             [
              0.6666666666666666,
              "#ed7953"
             ],
             [
              0.7777777777777778,
              "#fb9f3a"
             ],
             [
              0.8888888888888888,
              "#fdca26"
             ],
             [
              1,
              "#f0f921"
             ]
            ],
            "type": "surface"
           }
          ],
          "table": [
           {
            "cells": {
             "fill": {
              "color": "#EBF0F8"
             },
             "line": {
              "color": "white"
             }
            },
            "header": {
             "fill": {
              "color": "#C8D4E3"
             },
             "line": {
              "color": "white"
             }
            },
            "type": "table"
           }
          ]
         },
         "layout": {
          "annotationdefaults": {
           "arrowcolor": "#2a3f5f",
           "arrowhead": 0,
           "arrowwidth": 1
          },
          "autotypenumbers": "strict",
          "coloraxis": {
           "colorbar": {
            "outlinewidth": 0,
            "ticks": ""
           }
          },
          "colorscale": {
           "diverging": [
            [
             0,
             "#8e0152"
            ],
            [
             0.1,
             "#c51b7d"
            ],
            [
             0.2,
             "#de77ae"
            ],
            [
             0.3,
             "#f1b6da"
            ],
            [
             0.4,
             "#fde0ef"
            ],
            [
             0.5,
             "#f7f7f7"
            ],
            [
             0.6,
             "#e6f5d0"
            ],
            [
             0.7,
             "#b8e186"
            ],
            [
             0.8,
             "#7fbc41"
            ],
            [
             0.9,
             "#4d9221"
            ],
            [
             1,
             "#276419"
            ]
           ],
           "sequential": [
            [
             0,
             "#0d0887"
            ],
            [
             0.1111111111111111,
             "#46039f"
            ],
            [
             0.2222222222222222,
             "#7201a8"
            ],
            [
             0.3333333333333333,
             "#9c179e"
            ],
            [
             0.4444444444444444,
             "#bd3786"
            ],
            [
             0.5555555555555556,
             "#d8576b"
            ],
            [
             0.6666666666666666,
             "#ed7953"
            ],
            [
             0.7777777777777778,
             "#fb9f3a"
            ],
            [
             0.8888888888888888,
             "#fdca26"
            ],
            [
             1,
             "#f0f921"
            ]
           ],
           "sequentialminus": [
            [
             0,
             "#0d0887"
            ],
            [
             0.1111111111111111,
             "#46039f"
            ],
            [
             0.2222222222222222,
             "#7201a8"
            ],
            [
             0.3333333333333333,
             "#9c179e"
            ],
            [
             0.4444444444444444,
             "#bd3786"
            ],
            [
             0.5555555555555556,
             "#d8576b"
            ],
            [
             0.6666666666666666,
             "#ed7953"
            ],
            [
             0.7777777777777778,
             "#fb9f3a"
            ],
            [
             0.8888888888888888,
             "#fdca26"
            ],
            [
             1,
             "#f0f921"
            ]
           ]
          },
          "colorway": [
           "#636efa",
           "#EF553B",
           "#00cc96",
           "#ab63fa",
           "#FFA15A",
           "#19d3f3",
           "#FF6692",
           "#B6E880",
           "#FF97FF",
           "#FECB52"
          ],
          "font": {
           "color": "#2a3f5f"
          },
          "geo": {
           "bgcolor": "white",
           "lakecolor": "white",
           "landcolor": "#E5ECF6",
           "showlakes": true,
           "showland": true,
           "subunitcolor": "white"
          },
          "hoverlabel": {
           "align": "left"
          },
          "hovermode": "closest",
          "mapbox": {
           "style": "light"
          },
          "paper_bgcolor": "white",
          "plot_bgcolor": "#E5ECF6",
          "polar": {
           "angularaxis": {
            "gridcolor": "white",
            "linecolor": "white",
            "ticks": ""
           },
           "bgcolor": "#E5ECF6",
           "radialaxis": {
            "gridcolor": "white",
            "linecolor": "white",
            "ticks": ""
           }
          },
          "scene": {
           "xaxis": {
            "backgroundcolor": "#E5ECF6",
            "gridcolor": "white",
            "gridwidth": 2,
            "linecolor": "white",
            "showbackground": true,
            "ticks": "",
            "zerolinecolor": "white"
           },
           "yaxis": {
            "backgroundcolor": "#E5ECF6",
            "gridcolor": "white",
            "gridwidth": 2,
            "linecolor": "white",
            "showbackground": true,
            "ticks": "",
            "zerolinecolor": "white"
           },
           "zaxis": {
            "backgroundcolor": "#E5ECF6",
            "gridcolor": "white",
            "gridwidth": 2,
            "linecolor": "white",
            "showbackground": true,
            "ticks": "",
            "zerolinecolor": "white"
           }
          },
          "shapedefaults": {
           "line": {
            "color": "#2a3f5f"
           }
          },
          "ternary": {
           "aaxis": {
            "gridcolor": "white",
            "linecolor": "white",
            "ticks": ""
           },
           "baxis": {
            "gridcolor": "white",
            "linecolor": "white",
            "ticks": ""
           },
           "bgcolor": "#E5ECF6",
           "caxis": {
            "gridcolor": "white",
            "linecolor": "white",
            "ticks": ""
           }
          },
          "title": {
           "x": 0.05
          },
          "xaxis": {
           "automargin": true,
           "gridcolor": "white",
           "linecolor": "white",
           "ticks": "",
           "title": {
            "standoff": 15
           },
           "zerolinecolor": "white",
           "zerolinewidth": 2
          },
          "yaxis": {
           "automargin": true,
           "gridcolor": "white",
           "linecolor": "white",
           "ticks": "",
           "title": {
            "standoff": 15
           },
           "zerolinecolor": "white",
           "zerolinewidth": 2
          }
         }
        },
        "title": {
         "text": "Percentage of Cases per Region from 2015-2021"
        },
        "width": 700,
        "xaxis": {
         "anchor": "y",
         "domain": [
          0,
          1
         ],
         "title": {
          "text": "Year"
         }
        },
        "yaxis": {
         "anchor": "x",
         "domain": [
          0,
          1
         ],
         "title": {
          "text": "value"
         }
        }
       }
      },
      "text/html": [
       "<div>                            <div id=\"811cf3d2-631c-48a0-b6ca-3834ad7b3298\" class=\"plotly-graph-div\" style=\"height:700px; width:700px;\"></div>            <script type=\"text/javascript\">                require([\"plotly\"], function(Plotly) {                    window.PLOTLYENV=window.PLOTLYENV || {};                                    if (document.getElementById(\"811cf3d2-631c-48a0-b6ca-3834ad7b3298\")) {                    Plotly.newPlot(                        \"811cf3d2-631c-48a0-b6ca-3834ad7b3298\",                        [{\"hovertemplate\":\"variable=Region 1<br>Year=%{x}<br>value=%{y}<extra></extra>\",\"legendgroup\":\"Region 1\",\"marker\":{\"color\":\"#636efa\",\"symbol\":\"circle\"},\"mode\":\"markers\",\"name\":\"Region 1\",\"orientation\":\"v\",\"showlegend\":true,\"x\":[2015,2016,2017,2018,2019,2020,2021],\"xaxis\":\"x\",\"y\":[2,3,4,3,3,6,3],\"yaxis\":\"y\",\"type\":\"scatter\"},{\"hovertemplate\":\"variable=Region 2<br>Year=%{x}<br>value=%{y}<extra></extra>\",\"legendgroup\":\"Region 2\",\"marker\":{\"color\":\"#EF553B\",\"symbol\":\"circle\"},\"mode\":\"markers\",\"name\":\"Region 2\",\"orientation\":\"v\",\"showlegend\":true,\"x\":[2015,2016,2017,2018,2019,2020,2021],\"xaxis\":\"x\",\"y\":[1,1,2,1,2,2,1],\"yaxis\":\"y\",\"type\":\"scatter\"},{\"hovertemplate\":\"variable=Region 3<br>Year=%{x}<br>value=%{y}<extra></extra>\",\"legendgroup\":\"Region 3\",\"marker\":{\"color\":\"#00cc96\",\"symbol\":\"circle\"},\"mode\":\"markers\",\"name\":\"Region 3\",\"orientation\":\"v\",\"showlegend\":true,\"x\":[2015,2016,2017,2018,2019,2020,2021],\"xaxis\":\"x\",\"y\":[10,10,11,11,11,8,13],\"yaxis\":\"y\",\"type\":\"scatter\"},{\"hovertemplate\":\"variable=Region 4A<br>Year=%{x}<br>value=%{y}<extra></extra>\",\"legendgroup\":\"Region 4A\",\"marker\":{\"color\":\"#ab63fa\",\"symbol\":\"circle\"},\"mode\":\"markers\",\"name\":\"Region 4A\",\"orientation\":\"v\",\"showlegend\":true,\"x\":[2015,2016,2017,2018,2019,2020,2021],\"xaxis\":\"x\",\"y\":[15,18,15,17,17,13,20],\"yaxis\":\"y\",\"type\":\"scatter\"},{\"hovertemplate\":\"variable=Region 4B<br>Year=%{x}<br>value=%{y}<extra></extra>\",\"legendgroup\":\"Region 4B\",\"marker\":{\"color\":\"#FFA15A\",\"symbol\":\"circle\"},\"mode\":\"markers\",\"name\":\"Region 4B\",\"orientation\":\"v\",\"showlegend\":true,\"x\":[2015,2016,2017,2018,2019,2020,2021],\"xaxis\":\"x\",\"y\":[2,2,1,1,1,3,1],\"yaxis\":\"y\",\"type\":\"scatter\"},{\"hovertemplate\":\"variable=Region 5<br>Year=%{x}<br>value=%{y}<extra></extra>\",\"legendgroup\":\"Region 5\",\"marker\":{\"color\":\"#19d3f3\",\"symbol\":\"circle\"},\"mode\":\"markers\",\"name\":\"Region 5\",\"orientation\":\"v\",\"showlegend\":true,\"x\":[2015,2016,2017,2018,2019,2020,2021],\"xaxis\":\"x\",\"y\":[1,1,3,2,3,2,2],\"yaxis\":\"y\",\"type\":\"scatter\"},{\"hovertemplate\":\"variable=Region 6<br>Year=%{x}<br>value=%{y}<extra></extra>\",\"legendgroup\":\"Region 6\",\"marker\":{\"color\":\"#FF6692\",\"symbol\":\"circle\"},\"mode\":\"markers\",\"name\":\"Region 6\",\"orientation\":\"v\",\"showlegend\":true,\"x\":[2015,2016,2017,2018,2019,2020,2021],\"xaxis\":\"x\",\"y\":[6,3,7,7,6,2,8],\"yaxis\":\"y\",\"type\":\"scatter\"},{\"hovertemplate\":\"variable=Region 7<br>Year=%{x}<br>value=%{y}<extra></extra>\",\"legendgroup\":\"Region 7\",\"marker\":{\"color\":\"#B6E880\",\"symbol\":\"circle\"},\"mode\":\"markers\",\"name\":\"Region 7\",\"orientation\":\"v\",\"showlegend\":true,\"x\":[2015,2016,2017,2018,2019,2020,2021],\"xaxis\":\"x\",\"y\":[7,8,7,8,8,26,7],\"yaxis\":\"y\",\"type\":\"scatter\"},{\"hovertemplate\":\"variable=Region 8<br>Year=%{x}<br>value=%{y}<extra></extra>\",\"legendgroup\":\"Region 8\",\"marker\":{\"color\":\"#FF97FF\",\"symbol\":\"circle\"},\"mode\":\"markers\",\"name\":\"Region 8\",\"orientation\":\"v\",\"showlegend\":true,\"x\":[2015,2016,2017,2018,2019,2020,2021],\"xaxis\":\"x\",\"y\":[1,1,2,1,2,4,1],\"yaxis\":\"y\",\"type\":\"scatter\"},{\"hovertemplate\":\"variable=Region 9<br>Year=%{x}<br>value=%{y}<extra></extra>\",\"legendgroup\":\"Region 9\",\"marker\":{\"color\":\"#FECB52\",\"symbol\":\"circle\"},\"mode\":\"markers\",\"name\":\"Region 9\",\"orientation\":\"v\",\"showlegend\":true,\"x\":[2015,2016,2017,2018,2019,2020,2021],\"xaxis\":\"x\",\"y\":[2,2,1,2,1,1,2],\"yaxis\":\"y\",\"type\":\"scatter\"},{\"hovertemplate\":\"variable=Region 10<br>Year=%{x}<br>value=%{y}<extra></extra>\",\"legendgroup\":\"Region 10\",\"marker\":{\"color\":\"#636efa\",\"symbol\":\"circle\"},\"mode\":\"markers\",\"name\":\"Region 10\",\"orientation\":\"v\",\"showlegend\":true,\"x\":[2015,2016,2017,2018,2019,2020,2021],\"xaxis\":\"x\",\"y\":[2,2,3,3,3,3,3],\"yaxis\":\"y\",\"type\":\"scatter\"},{\"hovertemplate\":\"variable=Region 11<br>Year=%{x}<br>value=%{y}<extra></extra>\",\"legendgroup\":\"Region 11\",\"marker\":{\"color\":\"#EF553B\",\"symbol\":\"circle\"},\"mode\":\"markers\",\"name\":\"Region 11\",\"orientation\":\"v\",\"showlegend\":true,\"x\":[2015,2016,2017,2018,2019,2020,2021],\"xaxis\":\"x\",\"y\":[8,6,4,3,5,2,4],\"yaxis\":\"y\",\"type\":\"scatter\"},{\"hovertemplate\":\"variable=Region 12<br>Year=%{x}<br>value=%{y}<extra></extra>\",\"legendgroup\":\"Region 12\",\"marker\":{\"color\":\"#00cc96\",\"symbol\":\"circle\"},\"mode\":\"markers\",\"name\":\"Region 12\",\"orientation\":\"v\",\"showlegend\":true,\"x\":[2015,2016,2017,2018,2019,2020,2021],\"xaxis\":\"x\",\"y\":[3,2,2,2,3,1,2],\"yaxis\":\"y\",\"type\":\"scatter\"},{\"hovertemplate\":\"variable=NCR<br>Year=%{x}<br>value=%{y}<extra></extra>\",\"legendgroup\":\"NCR\",\"marker\":{\"color\":\"#ab63fa\",\"symbol\":\"circle\"},\"mode\":\"markers\",\"name\":\"NCR\",\"orientation\":\"v\",\"showlegend\":true,\"x\":[2015,2016,2017,2018,2019,2020,2021],\"xaxis\":\"x\",\"y\":[15,36,35,37,33,28,30],\"yaxis\":\"y\",\"type\":\"scatter\"},{\"hovertemplate\":\"variable=CARAGA<br>Year=%{x}<br>value=%{y}<extra></extra>\",\"legendgroup\":\"CARAGA\",\"marker\":{\"color\":\"#FFA15A\",\"symbol\":\"circle\"},\"mode\":\"markers\",\"name\":\"CARAGA\",\"orientation\":\"v\",\"showlegend\":true,\"x\":[2015,2016,2017,2018,2019,2020,2021],\"xaxis\":\"x\",\"y\":[1,2,2,1,1,1,2],\"yaxis\":\"y\",\"type\":\"scatter\"},{\"hovertemplate\":\"variable=ARMM<br>Year=%{x}<br>value=%{y}<extra></extra>\",\"legendgroup\":\"ARMM\",\"marker\":{\"color\":\"#19d3f3\",\"symbol\":\"circle\"},\"mode\":\"markers\",\"name\":\"ARMM\",\"orientation\":\"v\",\"showlegend\":true,\"x\":[2015,2016,2017,2018,2019,2020,2021],\"xaxis\":\"x\",\"y\":[1,1,1,1,0,0,0],\"yaxis\":\"y\",\"type\":\"scatter\"}],                        {\"template\":{\"data\":{\"bar\":[{\"error_x\":{\"color\":\"#2a3f5f\"},\"error_y\":{\"color\":\"#2a3f5f\"},\"marker\":{\"line\":{\"color\":\"#E5ECF6\",\"width\":0.5},\"pattern\":{\"fillmode\":\"overlay\",\"size\":10,\"solidity\":0.2}},\"type\":\"bar\"}],\"barpolar\":[{\"marker\":{\"line\":{\"color\":\"#E5ECF6\",\"width\":0.5},\"pattern\":{\"fillmode\":\"overlay\",\"size\":10,\"solidity\":0.2}},\"type\":\"barpolar\"}],\"carpet\":[{\"aaxis\":{\"endlinecolor\":\"#2a3f5f\",\"gridcolor\":\"white\",\"linecolor\":\"white\",\"minorgridcolor\":\"white\",\"startlinecolor\":\"#2a3f5f\"},\"baxis\":{\"endlinecolor\":\"#2a3f5f\",\"gridcolor\":\"white\",\"linecolor\":\"white\",\"minorgridcolor\":\"white\",\"startlinecolor\":\"#2a3f5f\"},\"type\":\"carpet\"}],\"choropleth\":[{\"colorbar\":{\"outlinewidth\":0,\"ticks\":\"\"},\"type\":\"choropleth\"}],\"contour\":[{\"colorbar\":{\"outlinewidth\":0,\"ticks\":\"\"},\"colorscale\":[[0.0,\"#0d0887\"],[0.1111111111111111,\"#46039f\"],[0.2222222222222222,\"#7201a8\"],[0.3333333333333333,\"#9c179e\"],[0.4444444444444444,\"#bd3786\"],[0.5555555555555556,\"#d8576b\"],[0.6666666666666666,\"#ed7953\"],[0.7777777777777778,\"#fb9f3a\"],[0.8888888888888888,\"#fdca26\"],[1.0,\"#f0f921\"]],\"type\":\"contour\"}],\"contourcarpet\":[{\"colorbar\":{\"outlinewidth\":0,\"ticks\":\"\"},\"type\":\"contourcarpet\"}],\"heatmap\":[{\"colorbar\":{\"outlinewidth\":0,\"ticks\":\"\"},\"colorscale\":[[0.0,\"#0d0887\"],[0.1111111111111111,\"#46039f\"],[0.2222222222222222,\"#7201a8\"],[0.3333333333333333,\"#9c179e\"],[0.4444444444444444,\"#bd3786\"],[0.5555555555555556,\"#d8576b\"],[0.6666666666666666,\"#ed7953\"],[0.7777777777777778,\"#fb9f3a\"],[0.8888888888888888,\"#fdca26\"],[1.0,\"#f0f921\"]],\"type\":\"heatmap\"}],\"heatmapgl\":[{\"colorbar\":{\"outlinewidth\":0,\"ticks\":\"\"},\"colorscale\":[[0.0,\"#0d0887\"],[0.1111111111111111,\"#46039f\"],[0.2222222222222222,\"#7201a8\"],[0.3333333333333333,\"#9c179e\"],[0.4444444444444444,\"#bd3786\"],[0.5555555555555556,\"#d8576b\"],[0.6666666666666666,\"#ed7953\"],[0.7777777777777778,\"#fb9f3a\"],[0.8888888888888888,\"#fdca26\"],[1.0,\"#f0f921\"]],\"type\":\"heatmapgl\"}],\"histogram\":[{\"marker\":{\"pattern\":{\"fillmode\":\"overlay\",\"size\":10,\"solidity\":0.2}},\"type\":\"histogram\"}],\"histogram2d\":[{\"colorbar\":{\"outlinewidth\":0,\"ticks\":\"\"},\"colorscale\":[[0.0,\"#0d0887\"],[0.1111111111111111,\"#46039f\"],[0.2222222222222222,\"#7201a8\"],[0.3333333333333333,\"#9c179e\"],[0.4444444444444444,\"#bd3786\"],[0.5555555555555556,\"#d8576b\"],[0.6666666666666666,\"#ed7953\"],[0.7777777777777778,\"#fb9f3a\"],[0.8888888888888888,\"#fdca26\"],[1.0,\"#f0f921\"]],\"type\":\"histogram2d\"}],\"histogram2dcontour\":[{\"colorbar\":{\"outlinewidth\":0,\"ticks\":\"\"},\"colorscale\":[[0.0,\"#0d0887\"],[0.1111111111111111,\"#46039f\"],[0.2222222222222222,\"#7201a8\"],[0.3333333333333333,\"#9c179e\"],[0.4444444444444444,\"#bd3786\"],[0.5555555555555556,\"#d8576b\"],[0.6666666666666666,\"#ed7953\"],[0.7777777777777778,\"#fb9f3a\"],[0.8888888888888888,\"#fdca26\"],[1.0,\"#f0f921\"]],\"type\":\"histogram2dcontour\"}],\"mesh3d\":[{\"colorbar\":{\"outlinewidth\":0,\"ticks\":\"\"},\"type\":\"mesh3d\"}],\"parcoords\":[{\"line\":{\"colorbar\":{\"outlinewidth\":0,\"ticks\":\"\"}},\"type\":\"parcoords\"}],\"pie\":[{\"automargin\":true,\"type\":\"pie\"}],\"scatter\":[{\"marker\":{\"colorbar\":{\"outlinewidth\":0,\"ticks\":\"\"}},\"type\":\"scatter\"}],\"scatter3d\":[{\"line\":{\"colorbar\":{\"outlinewidth\":0,\"ticks\":\"\"}},\"marker\":{\"colorbar\":{\"outlinewidth\":0,\"ticks\":\"\"}},\"type\":\"scatter3d\"}],\"scattercarpet\":[{\"marker\":{\"colorbar\":{\"outlinewidth\":0,\"ticks\":\"\"}},\"type\":\"scattercarpet\"}],\"scattergeo\":[{\"marker\":{\"colorbar\":{\"outlinewidth\":0,\"ticks\":\"\"}},\"type\":\"scattergeo\"}],\"scattergl\":[{\"marker\":{\"colorbar\":{\"outlinewidth\":0,\"ticks\":\"\"}},\"type\":\"scattergl\"}],\"scattermapbox\":[{\"marker\":{\"colorbar\":{\"outlinewidth\":0,\"ticks\":\"\"}},\"type\":\"scattermapbox\"}],\"scatterpolar\":[{\"marker\":{\"colorbar\":{\"outlinewidth\":0,\"ticks\":\"\"}},\"type\":\"scatterpolar\"}],\"scatterpolargl\":[{\"marker\":{\"colorbar\":{\"outlinewidth\":0,\"ticks\":\"\"}},\"type\":\"scatterpolargl\"}],\"scatterternary\":[{\"marker\":{\"colorbar\":{\"outlinewidth\":0,\"ticks\":\"\"}},\"type\":\"scatterternary\"}],\"surface\":[{\"colorbar\":{\"outlinewidth\":0,\"ticks\":\"\"},\"colorscale\":[[0.0,\"#0d0887\"],[0.1111111111111111,\"#46039f\"],[0.2222222222222222,\"#7201a8\"],[0.3333333333333333,\"#9c179e\"],[0.4444444444444444,\"#bd3786\"],[0.5555555555555556,\"#d8576b\"],[0.6666666666666666,\"#ed7953\"],[0.7777777777777778,\"#fb9f3a\"],[0.8888888888888888,\"#fdca26\"],[1.0,\"#f0f921\"]],\"type\":\"surface\"}],\"table\":[{\"cells\":{\"fill\":{\"color\":\"#EBF0F8\"},\"line\":{\"color\":\"white\"}},\"header\":{\"fill\":{\"color\":\"#C8D4E3\"},\"line\":{\"color\":\"white\"}},\"type\":\"table\"}]},\"layout\":{\"annotationdefaults\":{\"arrowcolor\":\"#2a3f5f\",\"arrowhead\":0,\"arrowwidth\":1},\"autotypenumbers\":\"strict\",\"coloraxis\":{\"colorbar\":{\"outlinewidth\":0,\"ticks\":\"\"}},\"colorscale\":{\"diverging\":[[0,\"#8e0152\"],[0.1,\"#c51b7d\"],[0.2,\"#de77ae\"],[0.3,\"#f1b6da\"],[0.4,\"#fde0ef\"],[0.5,\"#f7f7f7\"],[0.6,\"#e6f5d0\"],[0.7,\"#b8e186\"],[0.8,\"#7fbc41\"],[0.9,\"#4d9221\"],[1,\"#276419\"]],\"sequential\":[[0.0,\"#0d0887\"],[0.1111111111111111,\"#46039f\"],[0.2222222222222222,\"#7201a8\"],[0.3333333333333333,\"#9c179e\"],[0.4444444444444444,\"#bd3786\"],[0.5555555555555556,\"#d8576b\"],[0.6666666666666666,\"#ed7953\"],[0.7777777777777778,\"#fb9f3a\"],[0.8888888888888888,\"#fdca26\"],[1.0,\"#f0f921\"]],\"sequentialminus\":[[0.0,\"#0d0887\"],[0.1111111111111111,\"#46039f\"],[0.2222222222222222,\"#7201a8\"],[0.3333333333333333,\"#9c179e\"],[0.4444444444444444,\"#bd3786\"],[0.5555555555555556,\"#d8576b\"],[0.6666666666666666,\"#ed7953\"],[0.7777777777777778,\"#fb9f3a\"],[0.8888888888888888,\"#fdca26\"],[1.0,\"#f0f921\"]]},\"colorway\":[\"#636efa\",\"#EF553B\",\"#00cc96\",\"#ab63fa\",\"#FFA15A\",\"#19d3f3\",\"#FF6692\",\"#B6E880\",\"#FF97FF\",\"#FECB52\"],\"font\":{\"color\":\"#2a3f5f\"},\"geo\":{\"bgcolor\":\"white\",\"lakecolor\":\"white\",\"landcolor\":\"#E5ECF6\",\"showlakes\":true,\"showland\":true,\"subunitcolor\":\"white\"},\"hoverlabel\":{\"align\":\"left\"},\"hovermode\":\"closest\",\"mapbox\":{\"style\":\"light\"},\"paper_bgcolor\":\"white\",\"plot_bgcolor\":\"#E5ECF6\",\"polar\":{\"angularaxis\":{\"gridcolor\":\"white\",\"linecolor\":\"white\",\"ticks\":\"\"},\"bgcolor\":\"#E5ECF6\",\"radialaxis\":{\"gridcolor\":\"white\",\"linecolor\":\"white\",\"ticks\":\"\"}},\"scene\":{\"xaxis\":{\"backgroundcolor\":\"#E5ECF6\",\"gridcolor\":\"white\",\"gridwidth\":2,\"linecolor\":\"white\",\"showbackground\":true,\"ticks\":\"\",\"zerolinecolor\":\"white\"},\"yaxis\":{\"backgroundcolor\":\"#E5ECF6\",\"gridcolor\":\"white\",\"gridwidth\":2,\"linecolor\":\"white\",\"showbackground\":true,\"ticks\":\"\",\"zerolinecolor\":\"white\"},\"zaxis\":{\"backgroundcolor\":\"#E5ECF6\",\"gridcolor\":\"white\",\"gridwidth\":2,\"linecolor\":\"white\",\"showbackground\":true,\"ticks\":\"\",\"zerolinecolor\":\"white\"}},\"shapedefaults\":{\"line\":{\"color\":\"#2a3f5f\"}},\"ternary\":{\"aaxis\":{\"gridcolor\":\"white\",\"linecolor\":\"white\",\"ticks\":\"\"},\"baxis\":{\"gridcolor\":\"white\",\"linecolor\":\"white\",\"ticks\":\"\"},\"bgcolor\":\"#E5ECF6\",\"caxis\":{\"gridcolor\":\"white\",\"linecolor\":\"white\",\"ticks\":\"\"}},\"title\":{\"x\":0.05},\"xaxis\":{\"automargin\":true,\"gridcolor\":\"white\",\"linecolor\":\"white\",\"ticks\":\"\",\"title\":{\"standoff\":15},\"zerolinecolor\":\"white\",\"zerolinewidth\":2},\"yaxis\":{\"automargin\":true,\"gridcolor\":\"white\",\"linecolor\":\"white\",\"ticks\":\"\",\"title\":{\"standoff\":15},\"zerolinecolor\":\"white\",\"zerolinewidth\":2}}},\"xaxis\":{\"anchor\":\"y\",\"domain\":[0.0,1.0],\"title\":{\"text\":\"Year\"}},\"yaxis\":{\"anchor\":\"x\",\"domain\":[0.0,1.0],\"title\":{\"text\":\"value\"}},\"legend\":{\"title\":{\"text\":\"variable\"},\"tracegroupgap\":0},\"title\":{\"text\":\"Percentage of Cases per Region from 2015-2021\"},\"height\":700,\"width\":700},                        {\"responsive\": true}                    ).then(function(){\n",
       "                            \n",
       "var gd = document.getElementById('811cf3d2-631c-48a0-b6ca-3834ad7b3298');\n",
       "var x = new MutationObserver(function (mutations, observer) {{\n",
       "        var display = window.getComputedStyle(gd).display;\n",
       "        if (!display || display === 'none') {{\n",
       "            console.log([gd, 'removed!']);\n",
       "            Plotly.purge(gd);\n",
       "            observer.disconnect();\n",
       "        }}\n",
       "}});\n",
       "\n",
       "// Listen for the removal of the full notebook cells\n",
       "var notebookContainer = gd.closest('#notebook-container');\n",
       "if (notebookContainer) {{\n",
       "    x.observe(notebookContainer, {childList: true});\n",
       "}}\n",
       "\n",
       "// Listen for the clearing of the current output cell\n",
       "var outputEl = gd.closest('.output');\n",
       "if (outputEl) {{\n",
       "    x.observe(outputEl, {childList: true});\n",
       "}}\n",
       "\n",
       "                        })                };                });            </script>        </div>"
      ]
     },
     "metadata": {},
     "output_type": "display_data"
    }
   ],
   "source": [
    "df = pd.read_csv(r\"C:\\Users\\user\\Documents\\Transmission by Percent.csv\")\n",
    "\n",
    "df.plot(title='Percentage of Cases per Region from 2015-2021',\n",
    "    kind='scatter',\n",
    "    x='Year',\n",
    "    y=['Region 1', 'Region 2', 'Region 3', 'Region 4A', 'Region 4B', 'Region 5',\n",
    "       'Region 6', 'Region 7', 'Region 8', 'Region 9', 'Region 10', 'Region 11',\n",
    "       'Region 12', 'NCR', 'CARAGA', 'ARMM'], \n",
    "    backend='plotly', \n",
    "    width=700, height=700\n",
    ")"
   ]
  },
  {
   "cell_type": "code",
   "execution_count": null,
   "id": "497a2a63",
   "metadata": {},
   "outputs": [],
   "source": []
  }
 ],
 "metadata": {
  "kernelspec": {
   "display_name": "Python 3 (ipykernel)",
   "language": "python",
   "name": "python3"
  },
  "language_info": {
   "codemirror_mode": {
    "name": "ipython",
    "version": 3
   },
   "file_extension": ".py",
   "mimetype": "text/x-python",
   "name": "python",
   "nbconvert_exporter": "python",
   "pygments_lexer": "ipython3",
   "version": "3.9.12"
  }
 },
 "nbformat": 4,
 "nbformat_minor": 5
}
